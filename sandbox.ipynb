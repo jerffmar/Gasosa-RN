{
 "cells": [
  {
   "cell_type": "code",
   "execution_count": null,
   "id": "b6a2fc5b",
   "metadata": {},
   "outputs": [],
   "source": [
    "from GetGasosa import GetGasosa as buscar_precos"
   ]
  }
 ],
 "metadata": {
  "language_info": {
   "name": "python"
  }
 },
 "nbformat": 4,
 "nbformat_minor": 5
}
