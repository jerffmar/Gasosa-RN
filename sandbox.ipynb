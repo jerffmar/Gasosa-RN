{
 "cells": [
  {
   "cell_type": "code",
   "execution_count": null,
   "id": "b6a2fc5b",
   "metadata": {},
   "outputs": [],
   "source": [
    "from GetGasosa import GetGasosa as buscar_precos\n",
    "\n",
    "\n",
    "\n",
    "cidades = [\"Natal\", \"Parnamirim\", \"Extremoz\", \"Macaíba\", \"São Gonçalo do Amarante\", \"Nizia Floresta\", \"Ceará-Mirim\", \"São José de Mipibu\", \"Goianinha\", \"Montanhas\", \"Canguaretama\", \"Baía Formosa\"]\n",
    "produtos = [\"1\", \"2\", \"3\", \"4\", \"5\", \"6\", \"7\", \"8\"]\n",
    "notas = []\n",
    "for cidade in cidades:\n",
    "    for produto in produtos:\n",
    "        print(f\"Buscando preços para {cidade} - Produto {produto}...\")\n",
    "        resultados = buscar_precos(cidade, produto)\n",
    "        if resultados:\n",
    "            print(f\"Resultados encontrados para {cidade} - Produto {produto}:\")\n",
    "            for resultado in resultados:\n",
    "                if isinstance(resultado, dict):\n",
    "                    notas.append(resultado)\n",
    "                print(resultado)\n",
    "        else:\n",
    "            print(f\"Nenhum resultado encontrado para {cidade} - Produto {produto}.\")"
   ]
  },
  {
   "cell_type": "code",
   "execution_count": null,
   "id": "90b01f01",
   "metadata": {},
   "outputs": [
    {
     "name": "stdout",
     "output_type": "stream",
     "text": [
      "Conectado ao banco de dados.\n"
     ]
    },
    {
     "ename": "AttributeError",
     "evalue": "'str' object has no attribute 'name'",
     "output_type": "error",
     "traceback": [
      "\u001b[31m---------------------------------------------------------------------------\u001b[39m",
      "\u001b[31mAttributeError\u001b[39m                            Traceback (most recent call last)",
      "\u001b[36mCell\u001b[39m\u001b[36m \u001b[39m\u001b[32mIn[29]\u001b[39m\u001b[32m, line 16\u001b[39m\n\u001b[32m      8\u001b[39m \u001b[38;5;66;03m# Criação da tabela\u001b[39;00m\n\u001b[32m      9\u001b[39m notas_table = db.Table(\u001b[33m'\u001b[39m\u001b[33mnotas\u001b[39m\u001b[33m'\u001b[39m, metadata,\n\u001b[32m     10\u001b[39m     db.Column(\u001b[33m'\u001b[39m\u001b[33mid\u001b[39m\u001b[33m'\u001b[39m, db.Integer, primary_key=\u001b[38;5;28;01mTrue\u001b[39;00m),\n\u001b[32m     11\u001b[39m     db.Column(\u001b[33m'\u001b[39m\u001b[33mcidade\u001b[39m\u001b[33m'\u001b[39m, db.String(\u001b[32m50\u001b[39m)),\n\u001b[32m   (...)\u001b[39m\u001b[32m     14\u001b[39m     db.Column(\u001b[33m'\u001b[39m\u001b[33mdata\u001b[39m\u001b[33m'\u001b[39m, db.DateTime)\n\u001b[32m     15\u001b[39m )\n\u001b[32m---> \u001b[39m\u001b[32m16\u001b[39m \u001b[43mconnection\u001b[49m\u001b[43m.\u001b[49m\u001b[43mexecute\u001b[49m\u001b[43m(\u001b[49m\u001b[43mdb\u001b[49m\u001b[43m.\u001b[49m\u001b[43mschema\u001b[49m\u001b[43m.\u001b[49m\u001b[43mDropTable\u001b[49m\u001b[43m(\u001b[49m\u001b[43melement\u001b[49m\u001b[43m=\u001b[49m\u001b[33;43m'\u001b[39;49m\u001b[33;43mnotas\u001b[39;49m\u001b[33;43m'\u001b[39;49m\u001b[43m,\u001b[49m\u001b[43m \u001b[49m\u001b[43mif_exists\u001b[49m\u001b[43m=\u001b[49m\u001b[38;5;28;43;01mTrue\u001b[39;49;00m\u001b[43m)\u001b[49m\u001b[43m)\u001b[49m\n",
      "\u001b[36mFile \u001b[39m\u001b[32md:\\Projects\\Gasosa-RN\\venv\\Lib\\site-packages\\sqlalchemy\\engine\\base.py:1415\u001b[39m, in \u001b[36mConnection.execute\u001b[39m\u001b[34m(self, statement, parameters, execution_options)\u001b[39m\n\u001b[32m   1413\u001b[39m     \u001b[38;5;28;01mraise\u001b[39;00m exc.ObjectNotExecutableError(statement) \u001b[38;5;28;01mfrom\u001b[39;00m\u001b[38;5;250m \u001b[39m\u001b[34;01merr\u001b[39;00m\n\u001b[32m   1414\u001b[39m \u001b[38;5;28;01melse\u001b[39;00m:\n\u001b[32m-> \u001b[39m\u001b[32m1415\u001b[39m     \u001b[38;5;28;01mreturn\u001b[39;00m \u001b[43mmeth\u001b[49m\u001b[43m(\u001b[49m\n\u001b[32m   1416\u001b[39m \u001b[43m        \u001b[49m\u001b[38;5;28;43mself\u001b[39;49m\u001b[43m,\u001b[49m\n\u001b[32m   1417\u001b[39m \u001b[43m        \u001b[49m\u001b[43mdistilled_parameters\u001b[49m\u001b[43m,\u001b[49m\n\u001b[32m   1418\u001b[39m \u001b[43m        \u001b[49m\u001b[43mexecution_options\u001b[49m\u001b[43m \u001b[49m\u001b[38;5;129;43;01mor\u001b[39;49;00m\u001b[43m \u001b[49m\u001b[43mNO_OPTIONS\u001b[49m\u001b[43m,\u001b[49m\n\u001b[32m   1419\u001b[39m \u001b[43m    \u001b[49m\u001b[43m)\u001b[49m\n",
      "\u001b[36mFile \u001b[39m\u001b[32md:\\Projects\\Gasosa-RN\\venv\\Lib\\site-packages\\sqlalchemy\\sql\\ddl.py:187\u001b[39m, in \u001b[36mExecutableDDLElement._execute_on_connection\u001b[39m\u001b[34m(self, connection, distilled_params, execution_options)\u001b[39m\n\u001b[32m    184\u001b[39m \u001b[38;5;28;01mdef\u001b[39;00m\u001b[38;5;250m \u001b[39m\u001b[34m_execute_on_connection\u001b[39m(\n\u001b[32m    185\u001b[39m     \u001b[38;5;28mself\u001b[39m, connection, distilled_params, execution_options\n\u001b[32m    186\u001b[39m ):\n\u001b[32m--> \u001b[39m\u001b[32m187\u001b[39m     \u001b[38;5;28;01mreturn\u001b[39;00m \u001b[43mconnection\u001b[49m\u001b[43m.\u001b[49m\u001b[43m_execute_ddl\u001b[49m\u001b[43m(\u001b[49m\n\u001b[32m    188\u001b[39m \u001b[43m        \u001b[49m\u001b[38;5;28;43mself\u001b[39;49m\u001b[43m,\u001b[49m\u001b[43m \u001b[49m\u001b[43mdistilled_params\u001b[49m\u001b[43m,\u001b[49m\u001b[43m \u001b[49m\u001b[43mexecution_options\u001b[49m\n\u001b[32m    189\u001b[39m \u001b[43m    \u001b[49m\u001b[43m)\u001b[49m\n",
      "\u001b[36mFile \u001b[39m\u001b[32md:\\Projects\\Gasosa-RN\\venv\\Lib\\site-packages\\sqlalchemy\\engine\\base.py:1523\u001b[39m, in \u001b[36mConnection._execute_ddl\u001b[39m\u001b[34m(self, ddl, distilled_parameters, execution_options)\u001b[39m\n\u001b[32m   1519\u001b[39m schema_translate_map = exec_opts.get(\u001b[33m\"\u001b[39m\u001b[33mschema_translate_map\u001b[39m\u001b[33m\"\u001b[39m, \u001b[38;5;28;01mNone\u001b[39;00m)\n\u001b[32m   1521\u001b[39m dialect = \u001b[38;5;28mself\u001b[39m.dialect\n\u001b[32m-> \u001b[39m\u001b[32m1523\u001b[39m compiled = \u001b[43mddl\u001b[49m\u001b[43m.\u001b[49m\u001b[43mcompile\u001b[49m\u001b[43m(\u001b[49m\n\u001b[32m   1524\u001b[39m \u001b[43m    \u001b[49m\u001b[43mdialect\u001b[49m\u001b[43m=\u001b[49m\u001b[43mdialect\u001b[49m\u001b[43m,\u001b[49m\u001b[43m \u001b[49m\u001b[43mschema_translate_map\u001b[49m\u001b[43m=\u001b[49m\u001b[43mschema_translate_map\u001b[49m\n\u001b[32m   1525\u001b[39m \u001b[43m\u001b[49m\u001b[43m)\u001b[49m\n\u001b[32m   1526\u001b[39m ret = \u001b[38;5;28mself\u001b[39m._execute_context(\n\u001b[32m   1527\u001b[39m     dialect,\n\u001b[32m   1528\u001b[39m     dialect.execution_ctx_cls._init_ddl,\n\u001b[32m   (...)\u001b[39m\u001b[32m   1532\u001b[39m     compiled,\n\u001b[32m   1533\u001b[39m )\n\u001b[32m   1534\u001b[39m \u001b[38;5;28;01mif\u001b[39;00m \u001b[38;5;28mself\u001b[39m._has_events \u001b[38;5;129;01mor\u001b[39;00m \u001b[38;5;28mself\u001b[39m.engine._has_events:\n",
      "\u001b[36mFile \u001b[39m\u001b[32md:\\Projects\\Gasosa-RN\\venv\\Lib\\site-packages\\sqlalchemy\\sql\\elements.py:308\u001b[39m, in \u001b[36mCompilerElement.compile\u001b[39m\u001b[34m(self, bind, dialect, **kw)\u001b[39m\n\u001b[32m    303\u001b[39m         url = util.preloaded.engine_url\n\u001b[32m    304\u001b[39m         dialect = url.URL.create(\n\u001b[32m    305\u001b[39m             \u001b[38;5;28mself\u001b[39m.stringify_dialect\n\u001b[32m    306\u001b[39m         ).get_dialect()()\n\u001b[32m--> \u001b[39m\u001b[32m308\u001b[39m \u001b[38;5;28;01mreturn\u001b[39;00m \u001b[38;5;28;43mself\u001b[39;49m\u001b[43m.\u001b[49m\u001b[43m_compiler\u001b[49m\u001b[43m(\u001b[49m\u001b[43mdialect\u001b[49m\u001b[43m,\u001b[49m\u001b[43m \u001b[49m\u001b[43m*\u001b[49m\u001b[43m*\u001b[49m\u001b[43mkw\u001b[49m\u001b[43m)\u001b[49m\n",
      "\u001b[36mFile \u001b[39m\u001b[32md:\\Projects\\Gasosa-RN\\venv\\Lib\\site-packages\\sqlalchemy\\sql\\ddl.py:76\u001b[39m, in \u001b[36mBaseDDLElement._compiler\u001b[39m\u001b[34m(self, dialect, **kw)\u001b[39m\n\u001b[32m     72\u001b[39m \u001b[38;5;28;01mdef\u001b[39;00m\u001b[38;5;250m \u001b[39m\u001b[34m_compiler\u001b[39m(\u001b[38;5;28mself\u001b[39m, dialect, **kw):\n\u001b[32m     73\u001b[39m \u001b[38;5;250m    \u001b[39m\u001b[33;03m\"\"\"Return a compiler appropriate for this ClauseElement, given a\u001b[39;00m\n\u001b[32m     74\u001b[39m \u001b[33;03m    Dialect.\"\"\"\u001b[39;00m\n\u001b[32m---> \u001b[39m\u001b[32m76\u001b[39m     \u001b[38;5;28;01mreturn\u001b[39;00m \u001b[43mdialect\u001b[49m\u001b[43m.\u001b[49m\u001b[43mddl_compiler\u001b[49m\u001b[43m(\u001b[49m\u001b[43mdialect\u001b[49m\u001b[43m,\u001b[49m\u001b[43m \u001b[49m\u001b[38;5;28;43mself\u001b[39;49m\u001b[43m,\u001b[49m\u001b[43m \u001b[49m\u001b[43m*\u001b[49m\u001b[43m*\u001b[49m\u001b[43mkw\u001b[49m\u001b[43m)\u001b[49m\n",
      "\u001b[36mFile \u001b[39m\u001b[32md:\\Projects\\Gasosa-RN\\venv\\Lib\\site-packages\\sqlalchemy\\sql\\compiler.py:886\u001b[39m, in \u001b[36mCompiled.__init__\u001b[39m\u001b[34m(self, dialect, statement, schema_translate_map, render_schema_translate, compile_kwargs)\u001b[39m\n\u001b[32m    884\u001b[39m         \u001b[38;5;28;01massert\u001b[39;00m \u001b[38;5;28misinstance\u001b[39m(statement, Executable)\n\u001b[32m    885\u001b[39m     \u001b[38;5;28mself\u001b[39m.execution_options = statement._execution_options\n\u001b[32m--> \u001b[39m\u001b[32m886\u001b[39m \u001b[38;5;28mself\u001b[39m.string = \u001b[38;5;28;43mself\u001b[39;49m\u001b[43m.\u001b[49m\u001b[43mprocess\u001b[49m\u001b[43m(\u001b[49m\u001b[38;5;28;43mself\u001b[39;49m\u001b[43m.\u001b[49m\u001b[43mstatement\u001b[49m\u001b[43m,\u001b[49m\u001b[43m \u001b[49m\u001b[43m*\u001b[49m\u001b[43m*\u001b[49m\u001b[43mcompile_kwargs\u001b[49m\u001b[43m)\u001b[49m\n\u001b[32m    888\u001b[39m \u001b[38;5;28;01mif\u001b[39;00m render_schema_translate:\n\u001b[32m    889\u001b[39m     \u001b[38;5;28;01massert\u001b[39;00m schema_translate_map \u001b[38;5;129;01mis\u001b[39;00m \u001b[38;5;129;01mnot\u001b[39;00m \u001b[38;5;28;01mNone\u001b[39;00m\n",
      "\u001b[36mFile \u001b[39m\u001b[32md:\\Projects\\Gasosa-RN\\venv\\Lib\\site-packages\\sqlalchemy\\sql\\compiler.py:932\u001b[39m, in \u001b[36mCompiled.process\u001b[39m\u001b[34m(self, obj, **kwargs)\u001b[39m\n\u001b[32m    931\u001b[39m \u001b[38;5;28;01mdef\u001b[39;00m\u001b[38;5;250m \u001b[39m\u001b[34mprocess\u001b[39m(\u001b[38;5;28mself\u001b[39m, obj: Visitable, **kwargs: Any) -> \u001b[38;5;28mstr\u001b[39m:\n\u001b[32m--> \u001b[39m\u001b[32m932\u001b[39m     \u001b[38;5;28;01mreturn\u001b[39;00m \u001b[43mobj\u001b[49m\u001b[43m.\u001b[49m\u001b[43m_compiler_dispatch\u001b[49m\u001b[43m(\u001b[49m\u001b[38;5;28;43mself\u001b[39;49m\u001b[43m,\u001b[49m\u001b[43m \u001b[49m\u001b[43m*\u001b[49m\u001b[43m*\u001b[49m\u001b[43mkwargs\u001b[49m\u001b[43m)\u001b[49m\n",
      "\u001b[36mFile \u001b[39m\u001b[32md:\\Projects\\Gasosa-RN\\venv\\Lib\\site-packages\\sqlalchemy\\sql\\visitors.py:141\u001b[39m, in \u001b[36mVisitable._generate_compiler_dispatch.<locals>._compiler_dispatch\u001b[39m\u001b[34m(self, visitor, **kw)\u001b[39m\n\u001b[32m    139\u001b[39m     \u001b[38;5;28;01mreturn\u001b[39;00m visitor.visit_unsupported_compilation(\u001b[38;5;28mself\u001b[39m, err, **kw)  \u001b[38;5;66;03m# type: ignore  # noqa: E501\u001b[39;00m\n\u001b[32m    140\u001b[39m \u001b[38;5;28;01melse\u001b[39;00m:\n\u001b[32m--> \u001b[39m\u001b[32m141\u001b[39m     \u001b[38;5;28;01mreturn\u001b[39;00m \u001b[43mmeth\u001b[49m\u001b[43m(\u001b[49m\u001b[38;5;28;43mself\u001b[39;49m\u001b[43m,\u001b[49m\u001b[43m \u001b[49m\u001b[43m*\u001b[49m\u001b[43m*\u001b[49m\u001b[43mkw\u001b[49m\u001b[43m)\u001b[49m\n",
      "\u001b[36mFile \u001b[39m\u001b[32md:\\Projects\\Gasosa-RN\\venv\\Lib\\site-packages\\sqlalchemy\\sql\\compiler.py:6797\u001b[39m, in \u001b[36mDDLCompiler.visit_drop_table\u001b[39m\u001b[34m(self, drop, **kw)\u001b[39m\n\u001b[32m   6795\u001b[39m \u001b[38;5;28;01mif\u001b[39;00m drop.if_exists:\n\u001b[32m   6796\u001b[39m     text += \u001b[33m\"\u001b[39m\u001b[33mIF EXISTS \u001b[39m\u001b[33m\"\u001b[39m\n\u001b[32m-> \u001b[39m\u001b[32m6797\u001b[39m \u001b[38;5;28;01mreturn\u001b[39;00m text + \u001b[38;5;28;43mself\u001b[39;49m\u001b[43m.\u001b[49m\u001b[43mpreparer\u001b[49m\u001b[43m.\u001b[49m\u001b[43mformat_table\u001b[49m\u001b[43m(\u001b[49m\u001b[43mdrop\u001b[49m\u001b[43m.\u001b[49m\u001b[43melement\u001b[49m\u001b[43m)\u001b[49m\n",
      "\u001b[36mFile \u001b[39m\u001b[32md:\\Projects\\Gasosa-RN\\venv\\Lib\\site-packages\\sqlalchemy\\sql\\compiler.py:7829\u001b[39m, in \u001b[36mIdentifierPreparer.format_table\u001b[39m\u001b[34m(self, table, use_schema, name)\u001b[39m\n\u001b[32m   7827\u001b[39m     \u001b[38;5;28;01mif\u001b[39;00m TYPE_CHECKING:\n\u001b[32m   7828\u001b[39m         \u001b[38;5;28;01massert\u001b[39;00m \u001b[38;5;28misinstance\u001b[39m(table, NamedFromClause)\n\u001b[32m-> \u001b[39m\u001b[32m7829\u001b[39m     name = \u001b[43mtable\u001b[49m\u001b[43m.\u001b[49m\u001b[43mname\u001b[49m\n\u001b[32m   7831\u001b[39m result = \u001b[38;5;28mself\u001b[39m.quote(name)\n\u001b[32m   7833\u001b[39m effective_schema = \u001b[38;5;28mself\u001b[39m.schema_for_object(table)\n",
      "\u001b[31mAttributeError\u001b[39m: 'str' object has no attribute 'name'"
     ]
    }
   ],
   "source": [
    "from GetGasosa import GetGasosa\n",
    "import sqlalchemy as db\n",
    "\n",
    "engine = db.create_engine('sqlite:///db.sql')\n",
    "connection = engine.connect()\n",
    "metadata = db.MetaData()\n",
    "\n"
   ]
  }
 ],
 "metadata": {
  "kernelspec": {
   "display_name": "venv (3.13.5)",
   "language": "python",
   "name": "python3"
  },
  "language_info": {
   "codemirror_mode": {
    "name": "ipython",
    "version": 3
   },
   "file_extension": ".py",
   "mimetype": "text/x-python",
   "name": "python",
   "nbconvert_exporter": "python",
   "pygments_lexer": "ipython3",
   "version": "3.13.5"
  }
 },
 "nbformat": 4,
 "nbformat_minor": 5
}
